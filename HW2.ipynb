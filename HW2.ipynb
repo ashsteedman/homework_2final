{
 "cells": [
  {
   "cell_type": "code",
   "execution_count": null,
   "id": "aea03fd3-0c33-4590-989e-a38b8ff659f1",
   "metadata": {
    "tags": []
   },
   "outputs": [],
   "source": [
    "%%capture\n",
    "# Install the autograder to check your answers as you go along\n",
    "import sys\n",
    "!{sys.executable} -m pip install otter-grader\n",
    "# Initialize Otter\n",
    "import otter\n",
    "grader = otter.Notebook(\"HW2.ipynb\")"
   ]
  },
  {
   "cell_type": "markdown",
   "id": "45c06ffc-14b4-49aa-8047-4de5de99ff48",
   "metadata": {
    "tags": []
   },
   "source": [
    "# Homework #2\n",
    "**Due Friday Oct. 27th @ 11:59 pm**\n",
    "\n",
    "**Objective:** This assignment will give you experience with control flow, Numpy arrays and functions, datetimes, and basic plotting.\n",
    "\n",
    "\n",
    "## **Instructions:**\n",
    "### Accessing Class Code\n",
    "\n",
    "1. Clone this repository into your own JupyterHub by running this command in your home directory:\n",
    "```git clone your_SSH_URL```\n",
    "\n",
    "2. Once you have cloned the repository, go into your directory and set your branch to \"main\" (See the GitHub cheatsheet for help on this). You will not need to reset your remote origin, as you have already directly cloned from your own version of the repository.\n",
    "\n",
    "3. There should now be a \"homework_2\" directory in the home directory of your JupyterHub. In terminal, change directories into \"homework_2\". Next, click on the the \"homework_1\" icon on the filepath hierarchy in the left panel of JupyterHub. If you don't see it, make sure you're in the home folder by clicking the folder icon under the search bar. \n",
    "\n",
    "4. Double click the \"HW2.ipynb\" to open it in a new tab and begin working on the assignment. Read the instructions carefully, and make sure to write your answers in the specified cells. Typically, you will see a \"...\" in the places you need to fill in. Make sure to use the variable names provided in the starter code. See the \"Working in your Notebook\" section below for an example. There are some autograder tests embedded in the notebook, but there are also some hidden tests that will be graded after submission.\n",
    "\n",
    "5. Edit the README file and write your name and UW NetID. Include a paragraph of instructions on how you used git commands to add, commit, and push to your repository (3-5 sentences). Now that y'all are GitHub connoisseurs, imagine that you are explaining how to use GitHub to someone who has never used GitHub before! :) \n",
    "\n",
    "6. As you continue to answer the homework questions and make edits to your code, make sure to regularly update your GitHub repository as well via git add, commit, and push (steps 15, 16, 19 in 0b). A good rule of thumb would be to run these git steps anytime you make an addition or change that you don't want to accidentally lose. Generally, you can push once a day to maintain good version control practices. <br>\n",
    "As a note, make sure that your git commands are running without errors before you refresh your GitHub and check your changes. If you are not seeing the updated changes you created in your local JupyterHub directory, check where your status is by this command: <br>\n",
    "``` git status```\n",
    "\n",
    "Then, you can see if you made an error with your git add, commit, or push commands. \n",
    "\n",
    "**Sometimes, our JupyterHub server has trouble remembering the file permissions for our SSH keys. If you get a file permission error with your private ssh key, run this line of code:**\n",
    "```chmod 400 ~/.ssh/id_ed25519``` \n",
    "<br>\n",
    "\n",
    "This will change your file permission to the proper permissions that SSH requires.\n",
    "    \n",
    "### Submitting to GradeScope\n",
    "\n",
    "7. Go to the class Gradescope dashboard and submit your personal GitHub repository link to the Homework 2 assignment. Make sure your GitHub is synchronized with Gradescope to access both your public _and_ private repositories. If prompted, log in to GitHub.\n",
    "\n",
    "8. Run the autograder to check if your code runs and if you passed the initial unit tests. You should be able to run the autograder as many times as you want before submitting. Again, double check that your final answers are stored in the provided variable names given in the starter code!\n",
    "\n",
    "13. Once the autograder has finished running, check that you have submitted the assignment. If you make any more changes to your code after submitting to Gradescope, make sure to push your changes to GitHub and resubmit the assignment on Gradescope. You can submit as many times as you want as there is no maximum submission attempts, but be sure to have your final submission in before the deadline.\n",
    "\n",
    "### Working in your Notebook\n",
    "   To help you start thinking about how to write meaningful and concise variable names, we have provided variable names in most of your questions. \n",
    "    Note that there is an ellipsis (the \"...\") after each of the variable names. These are the sections you are expected to fill in. Please use the provided variable names (ie \"pelagic\" and \"coastal\" in the above example) to report your final answer back in. This will ensure that the autograder on Gradescope runs properly. <br>\n",
    "    <br>Make sure that you are adding comments and your outside references as you go along! Part of your grade will include using best coding practices in your homework assignments. \n",
    "\n",
    "### Honor Code\n",
    "\n",
    "- Complete the assignment by writing and executing text and code cells as specified. For this assignment, do not use any features of Python that have not yet been discussed in the lessons or class sessions.\n",
    "\n",
    "- Please keep in mind our late work and dropped homework grading policy. Review the syllabus for details.\n",
    "\n",
    "- You can acknowledge and describe any assistance you've received on this assignment in the specified cell of the HW1 notebook, whether that was from an instructor, classmate (either directly or on Piazza), and/or online resources other than official Python documentation websites like docs.python.org or numpy.org. Alternatively, if you prefer, you may acknowledge assistance at the relevant point(s) in your code using a Python comment (#). Don't forget that you can receive extra credit from answering at least one question on Ed Discussion!"
   ]
  },
  {
   "cell_type": "code",
   "execution_count": null,
   "id": "bcc5f826-738c-4131-8232-e8e2788487c4",
   "metadata": {},
   "outputs": [],
   "source": []
  },
  {
   "cell_type": "markdown",
   "id": "711fab02-47f9-451f-8c0b-a84e979ceba8",
   "metadata": {
    "tags": []
   },
   "source": [
    "*Acknowledge assistance here or in comments above your code:*\n",
    "\n",
    "\n",
    "\n"
   ]
  },
  {
   "cell_type": "markdown",
   "id": "ef1637b0-14da-4f24-b040-ca98dec6a062",
   "metadata": {
    "deletable": false,
    "editable": false
   },
   "source": [
    "<!-- BEGIN QUESTION -->\n",
    "\n",
    "# Question 1 - Numpy documentation (30 points)\n",
    "\n",
    "There are many more functions and packages in Python than we have discussed in class. It is important for data analysts to be able to independently **find**, **learn about**, and **apply** useful functions.\n",
    "\n",
    "The Numpy package contains many more functions than those we have covered in class. For this question, you will peruse the online Numpy package documentation and select **three** functions to learn more about and demonstrate (https://numpy.org/doc/stable/reference/routines.html). <br>\n",
    "Also, don't forget to import numpy! You only have to do this once for your notebook.\n",
    "\n",
    "For each Numpy function (10 points per function):\n",
    "\n",
    "\n",
    "1. Describe what the function does. What value(s) does it return? <br>\n",
    "2. Describe at least *two* **positional** arguments used in the function. What data types are required for them? What order do they go in? <br>\n",
    "3. Describe at least *one* **optional** named argument used in the function. What data types are required for it? What is the default value?<br>\n",
    "4. Provide the link to the documentation page(s) you used to answer these questions.<br>\n",
    "5. Write a code snippet where you use the function and print the result.<br>\n",
    "\n",
    "### Example: ```numpy.lcm```\n",
    "1. The function numpy.lcm finds and returns the lowest common multiple of the absolute value of the inputs.<br>\n",
    "2. The first two positional arguments used in numpy.lcm have to be either numpy arrays of integers or single scalar integers. An array or scalar of the lowest common multiple(s) of both arguments is returned by the function.<br>\n",
    "3. One optional argument is \"where\" which indicates whether a universal function should be calculated at this point. The data type required is a Boolean. \"where\" = True is the default value.<br>\n",
    "4. I used two references: https://numpy.org/doc/stable/reference/generated/numpy.lcm.html#numpy.lcm\n",
    "and\n",
    "https://www.educative.io/answers/what-is-numpylcm-in-python <br>\n"
   ]
  },
  {
   "cell_type": "code",
   "execution_count": null,
   "id": "57ac2903-9b06-41b9-86d6-5a292b4543af",
   "metadata": {
    "deletable": false,
    "editable": false,
    "tags": []
   },
   "outputs": [],
   "source": [
    "#Example part 5: numpy.lcm. Do not change this code\n",
    "\n",
    "import numpy as np #import numpy\n",
    "\n",
    "lcm = np.lcm(45,6) #take the lowest common multiple of 45 and 6\n",
    "print(\"The lowest common multiple of 45 and 6 is\", lcm) #print\n",
    "\n",
    "#Write your answers and code in the markdown cells below"
   ]
  },
  {
   "cell_type": "markdown",
   "id": "eef33990",
   "metadata": {},
   "source": [
    "_Type your answer here, replacing this text._"
   ]
  },
  {
   "cell_type": "code",
   "execution_count": null,
   "id": "88d5315b-06a2-49c2-8625-b7031c1bf935",
   "metadata": {
    "tags": []
   },
   "outputs": [],
   "source": [
    "## Part 5 Code for Function 1"
   ]
  },
  {
   "cell_type": "code",
   "execution_count": null,
   "id": "2adc986f-37a2-4dae-a9e1-ef1d3632310f",
   "metadata": {
    "tags": []
   },
   "outputs": [],
   "source": [
    "## Part 5 Code for Function 2"
   ]
  },
  {
   "cell_type": "code",
   "execution_count": null,
   "id": "d3740e4a-eab3-408d-bad0-7177b9f2ed4a",
   "metadata": {
    "tags": []
   },
   "outputs": [],
   "source": [
    "## Part 5 Code for Function 3"
   ]
  },
  {
   "cell_type": "markdown",
   "id": "a44a1eea-9f20-4412-9dd4-f8430ab327bc",
   "metadata": {
    "deletable": false,
    "editable": false,
    "tags": []
   },
   "source": [
    "<!-- END QUESTION -->\n",
    "\n",
    "# Question #2 - Multi-diminsional array slicing (30 points)\n",
    "\n",
    "### Instructions:\n",
    "There is a secret message hidden in the following 3-D numpy array! We will decode this 3-D array by following the clues below and using our array indexing and slicing skills. <br>\n",
    "_**Make sure to use the provided variables to store your final answer!**_ You may name intermediary variables whatever you like, as long as the final answer is stored and printed in the ones we provide in your starter code.\n",
    "\n",
    "1. Find letters of words through indexing and slicing this array using the clues below to create an array of characters (letters). \n",
    "2. Turn resulting character arrays into lists using the numpy tolist() function.\n",
    "3. Use the join() string function on each word list to form a single string for each word. \n",
    "4. Print the combined words at the end.\n",
    "\n",
    "### Clues: \n",
    "Word 1: 5th layer, 3rd and 4th rows, and 2nd column.\n",
    "\n",
    "Word 2: 1st to last layers, 4th row, 3rd column.\n",
    "\n",
    "Word 3: 1st layer, 3rd row, 2nd to last columns.\n",
    "\n",
    "Word 4: 4th layer, 3rd and 4th rows, 4th column.\n",
    "\n",
    "Word 5: 3rd layer, 1st row, 1st to last columns\n",
    "- For this clue, you will need to call the numpy ravel() function before you convert the character array into a list\n",
    "- Read about what ravel() does [here.](https://numpy.org/doc/stable/reference/generated/numpy.ravel.html) \n",
    "\n",
    "\n",
    "### HINT\n",
    "Example word: 1st layer, last row, 2nd to 4th columns\n",
    "- This clue refers to the letters: ```['t','a','g']```\n",
    "\n",
    "**Remember that Python indexing is non-inclusive and starts at 0, e.g. the 1st element is actually at index 0.**"
   ]
  },
  {
   "cell_type": "code",
   "execution_count": null,
   "id": "d3820cf9-9560-409d-ae1c-80896424cf0e",
   "metadata": {
    "deletable": false,
    "editable": false,
    "tags": []
   },
   "outputs": [],
   "source": [
    "#Do not change this 3-D numpy string array\n",
    "import numpy as np\n",
    "\n",
    "str_array = np.array([[['a', 'c', 'V', 't', 'a'], #This is Layer 1\n",
    "  ['M', 'h', 'c', 'r', 'b'], # Ex: This is Row 2\n",
    "  ['T', 'n', 'a', 'm', 'e'], \n",
    "  ['g', 'f', 'c', 'A', 'a'],\n",
    "  ['l', 't', 'a', 'g', 'h']],\n",
    "\n",
    " [['G', 'a', 'A', 'P', 'f'], #This is Layer 2\n",
    "  ['x', 'q', 'q', 'h', 'b'],\n",
    "  ['y', 'y', 'p', 'l', 'a'],\n",
    "  ['a', 'a', 'a', 'a', 'U'],\n",
    "  ['t', 't', 'a', 'K', 'y']],\n",
    "\n",
    " [['P', 'o', 's', 'c', 'o'], #This is Layer 3\n",
    "  ['i', 'a', 'a', 'k', 'c'],\n",
    "  ['r', 'a', 'a', 'f', 'k'],\n",
    "  ['e', 'a', 't', 'a', 'r'],\n",
    "  ['w', 'R', 'R', 'e', 's']],\n",
    "\n",
    " [['a', 'a', 'e', 'a', 'a'], #This is Layer 4\n",
    "  ['t', 'b', 'r', 'a', 's'],\n",
    "  ['e', 'w', 'a', 'i', 'a'],\n",
    "  ['E', 'a', \"'\", 's', 's'],\n",
    "  ['D', 'a', 'r', 'r', 'a']],\n",
    "\n",
    " [['E', 'a', 'a', 'r', 'r'], #This is Layer 5\n",
    "  ['q', 'a', 'a', 'a', 'L'],\n",
    "  ['j', 'M', 'a', 'y', 'Y'],\n",
    "  ['j', 'y', 's', 'a', 'p'],\n",
    "  ['e', 'a', 'a', 'r', 'a']]])\n",
    "\n",
    "\n",
    "#Provide your code in the cell below"
   ]
  },
  {
   "cell_type": "code",
   "execution_count": null,
   "id": "0e12e04a-2b1f-49c7-b1d7-f864a81c564c",
   "metadata": {
    "tags": []
   },
   "outputs": [],
   "source": [
    "#index 3-D array and turn resulting arrays into lists\n",
    "word1_list = ...\n",
    "word2_list = ...\n",
    "word3_list = ...\n",
    "word4_list = ...\n",
    "word5_list = ...\n",
    "\n",
    "\n",
    "#Use string function join to combine letters in to words\n",
    "word1 = ...\n",
    "word2 = ...\n",
    "word3 = ...\n",
    "word4 = ...\n",
    "word5 = ...\n",
    "\n",
    "#print full message\n",
    "print(word1, word2, word3, word4, word5)"
   ]
  },
  {
   "cell_type": "code",
   "execution_count": null,
   "id": "9c8fa711",
   "metadata": {
    "deletable": false,
    "editable": false
   },
   "outputs": [],
   "source": [
    "grader.check(\"Question 2\")"
   ]
  },
  {
   "cell_type": "markdown",
   "id": "72682492-f00f-4d56-9bf5-94c48b722fe0",
   "metadata": {
    "deletable": false,
    "editable": false
   },
   "source": [
    "## Question 3 (30 points) - Datetimes, numpy, indexing, plotting  <font color='red'><i>Grade 30/30</i></font> \n",
    "\n",
    "![picture](https://drive.google.com/uc?export=view&id=1Vef5rWSHWuhFOO-jogERwF-wLMK62UE6)\n",
    "*Image: Bathymetry of the seafloor around Axial Seamount (source: Wikipedia, originally from NOAA/PMEL).*\n",
    "\n",
    "### **Axial Seamount eruption**\n",
    "\n",
    "*Useful resources:* pre-lectures on list indexing, on *for* loops and *if* statements, on numpy, on datetime, and on basic plots\n",
    "\n",
    "During the eruption of a submarine volcano, the seafloor deflates rapidly as magma is expelled into the ocean. Bottom pressure gauges use pressure to measure depth, so these gauges can detect this deflation. After an eruption, the seafloor slowly inflates and rises as magma accumulates in preparation for the next eruption.\n",
    "\n",
    "Axial Seamount is an active submarine volcano offshore of the Oregon coast. It last erupted in 2015. Below, we provide a time series of monthly depths informed by bottom pressure data released by the [Ocean Observatories Initiative \\(OOI\\)](https://dataexplorer.oceanobservatories.org/#default-data/4) from August 15, 2014 to December 15, 2019, with measurements taken on the 15th day of each month. Times are specified in date strings.\n",
    "\n",
    "## Instructions\n",
    "Write your code and print your answers for Parts 1-3 in the specified cells below. <br>Make sure to write your *print()* statements for your answers at the bottom of each cell and _**use the provided variables to store your final answer!**_ You may name intermediary variables whatever you like, as long as the final answer is stored and printed in the ones we provide in your starter code. <br>You can choose whether to use lists or numpy arrays. Write code to answer the following questions:\n",
    "\n",
    "1. The seafloor dropped more than 2.0 m during the 2015 eruption (AKA its depth increased/got deeper over 2m throughout the explosion). **This can be used to identify when the eruption happened**. Answer these questions using a *print()* statement, e.g. \"Part 1a: The seafloor drop during the eruption was \\<X> m.\" (10 points)\n",
    "> **a.** Convert each date string in the \"dates\" list into a datetime and store them in a new list called \"datetime_list\". Print this list. \n",
    ">\n",
    "> **b.** Think about how you can calculate the seafloor drop by using the known depths in the \"depths\" list. Calculate the seafloor drop during the eruption. Round to 1 decimal place (use function *round()*). Print the value of the seaflow drop.\n",
    ">\n",
    "> **c.** Identify the two measurement datetimes immediately before and after the eruption and save them into new variables. Print these dates.\n",
    ">\n",
    "> **d.** Find the seafloor depth measurement immediately before the eruption and save it as a new variable. Round to 1 decimal place. Print this variable.\n",
    ">\n",
    "\n",
    "2. The seafloor has been steadily inflating since the 2015 eruption (AKA its depth has been decreasing/becoming shallower since the eruption). Express answers to the following questions in meters and fractional years, respectively, each rounded to 1 decimal place: (5 points)\n",
    "> **a.** How much has the seafloor inflated between the measurement immediately after the eruption and the most recent measurement in this data? Store the inflation difference in a variable and print it. \n",
    ">\n",
    "> **b.** How much time has elapsed between these two measurements? Calculated the time difference and print it. \n",
    ">\n",
    "\n",
    "3. Calculate the approximate rate of seafloor inflation using the values from Part 2. Express your answer in units of centimeters per week, rounded to 1 decimal place. Print your answer. (5 points)\n",
    "- Rememeber that rate is in units of distance over time! \n",
    "\n",
    "4. Use Matplotlib to create a plot of the data with datetime on the x-axis and depth on the y-axis.  Shallower depths should point in the positive y-direction (Look how to do this in the [Matplotlib documentation](https://matplotlib.org/3.3.1/api/axes_api.html)). **Format and label your plot such that it looks as similar to the following plot as possible (this includes the title, axis labels, and grid)**: (10 points)\n",
    "\n",
    "![picture](https://drive.google.com/uc?export=view&id=17LjK79LlBLUmqjkg6CDXjWhWNzTC8c8R)\n"
   ]
  },
  {
   "cell_type": "code",
   "execution_count": null,
   "id": "85ca36d7-4b26-4476-9804-a08cc44af3da",
   "metadata": {
    "deletable": false,
    "editable": false,
    "tags": []
   },
   "outputs": [],
   "source": [
    "# Keep these starting lines of code – DO NOT CHANGE THIS!:\n",
    "#\n",
    "# Axial Seamount Central Caldera bottom pressure gauge data \n",
    "# (times in date strings; depths in meters)\n",
    "dates = [\"2014-08-15\",\"2014-09-15\",\"2014-10-15\",\"2014-11-15\",\"2014-12-15\",\n",
    "         \"2015-01-15\",\"2015-02-15\",\"2015-03-15\",\"2015-04-15\",\"2015-05-15\",\"2015-06-15\",\"2015-07-15\",\"2015-08-15\",\"2015-09-15\",\"2015-10-15\",\"2015-11-15\",\"2015-12-15\",\n",
    "         \"2016-01-15\",\"2016-02-15\",\"2016-03-15\",\"2016-04-15\",\"2016-05-15\",\"2016-06-15\",\"2016-07-15\",\"2016-08-15\",\"2016-09-15\",\"2016-10-15\",\"2016-11-15\",\"2016-12-15\",\n",
    "         \"2017-01-15\",\"2017-02-15\",\"2017-03-15\",\"2017-04-15\",\"2017-05-15\",\"2017-06-15\",\"2017-07-15\",\"2017-08-15\",\"2017-09-15\",\"2017-10-15\",\"2017-11-15\",\"2017-12-15\",\n",
    "         \"2018-01-15\",\"2018-02-15\",\"2018-03-15\",\"2018-04-15\",\"2018-05-15\",\"2018-06-15\",\"2018-07-15\",\"2018-08-15\",\"2018-09-15\",\"2018-10-15\",\"2018-11-15\",\"2018-12-15\",\n",
    "         \"2019-01-15\",\"2019-02-15\",\"2019-03-15\",\"2019-04-15\",\"2019-05-15\",\"2019-06-15\",\"2019-07-15\",\"2019-08-15\",\"2019-09-15\",\"2019-10-15\",\"2019-11-15\",\"2019-12-15\"]\n",
    "depths = [1510.24,1510.19,1510.14,1510.08,1510.04,1509.96,1509.93,1509.87,1509.83,1512.23,1512.11,1512.04,1511.96,1511.89,1511.79,1511.7,1511.64,1511.57,1511.54,1511.5,1511.47,1511.47,1511.4,1511.35,1511.33,1511.32,1511.31,1511.26,1511.21,1511.19,1511.14,1511.12,1511.05,1511.0,1511.06,1511.04,1511.01,1510.98,1510.93,1510.87,1510.87,1510.91,1510.86,1510.77,1510.75,1510.7,1510.67,1510.68,1510.64,1510.59,1510.56,1510.54,1510.45,1510.51,1510.41,1510.42,1510.39,1510.37,1510.4,1510.42,1510.41,1510.38,1510.33,1510.3,1510.26]\n",
    "\n",
    "# Provide your answers in cells below:"
   ]
  },
  {
   "cell_type": "markdown",
   "id": "6d8d40be-2d2f-4329-a178-d4ff1e79dd39",
   "metadata": {
    "deletable": false,
    "editable": false
   },
   "source": [
    "## Part 1\n",
    "The seafloor dropped more than 2.0 m during the 2015 eruption (AKA its depth increased/got deeper over 2m throughout the explosion). **This can be used to identify when the eruption happened**. Answer these questions using a *print()* statement, e.g. \"Part 1a: The seafloor drop during the eruption was \\<X> m.\" (10 points)\n",
    "\n",
    "### Instructions\n",
    "> **a.** Convert each date string in the \"dates\" list into a datetime and store them in a new list called \"datetime_list\". Print this list. \n",
    ">\n",
    "> **b.** Think about how you can calculate the seafloor drop by using the known depths in the \"depths\" list. Calculate the seafloor drop during the eruption. Round to 1 decimal place (use function *round()*). Print the value of the seaflow drop.\n",
    ">\n",
    "> **c.** Identify the two measurement datetimes immediately before and after the eruption and save them into new variables. Think about how you would figure out the two months the eruption happend in between by using the seafloor drop value you calculated in Part B. Print these dates.\n",
    ">\n",
    "> **d.** Find the seafloor depth measurement immediately before the eruption and save it as a new variable. Round to 1 decimal place. Print this variable.\n",
    ">"
   ]
  },
  {
   "cell_type": "code",
   "execution_count": null,
   "id": "3be01bf9-4284-4b92-842d-f40c8f3c0b26",
   "metadata": {
    "tags": []
   },
   "outputs": [],
   "source": [
    "## first, what do you need to import?\n",
    "...\n",
    "\n",
    "# Store your list of datetimes in here (part a)\n",
    "datetime_list=...\n",
    "\n",
    "...\n",
    "# Store your seafloor drop (depth change) during the eruption in here (part b)\n",
    "round_depth = ...\n",
    "\n",
    "...\n",
    "# Store your start and end dates of the eruption in here (part c)\n",
    "start_date = ...\n",
    "end_date = ...\n",
    "\n",
    "...\n",
    "# Store your depth immediately before the eruption in here (part d)\n",
    "round_start_depth = ..."
   ]
  },
  {
   "cell_type": "markdown",
   "id": "496b737e-19f4-4389-b63e-086fef92dd55",
   "metadata": {
    "deletable": false,
    "editable": false
   },
   "source": [
    "## Part 2\n",
    "The seafloor has been steadily inflating since the 2015 eruption (AKA its depth has been decreasing/becoming shallower since the eruption). Express answers to the following questions in meters and fractional years, respectively, each rounded to 1 decimal place: (5 points)\n",
    "> **a.** How much has the seafloor inflated between the measurement immediately after the eruption and the most recent measurement in this data? Store the inflation difference in a variable and print it. \n",
    ">\n",
    "> **b.** How much time has elapsed between these two measurements? Calculated the time difference and print it. \n",
    ">"
   ]
  },
  {
   "cell_type": "code",
   "execution_count": null,
   "id": "3921f3bc-5872-4415-90e6-698ae9c9b363",
   "metadata": {
    "tags": []
   },
   "outputs": [],
   "source": [
    "...\n",
    "# store the inflated difference in this variable (part a)\n",
    "inflation_diff = ...\n",
    "\n",
    "...\n",
    "# store the elapsed time between measurements in this variable (part b)\n",
    "elapsed_time = ..."
   ]
  },
  {
   "cell_type": "markdown",
   "id": "e44025d9-088f-43c8-89ac-6d2dffbec314",
   "metadata": {
    "deletable": false,
    "editable": false
   },
   "source": [
    "### Part 3 \n",
    "3. Calculate the approximate rate of seafloor inflation using the values from Part 2. Express your answer in units of centimeters per week, rounded to 1 decimal place. Print your answer. (5 points)\n",
    "- Rememeber that rate is in units of distance over time! "
   ]
  },
  {
   "cell_type": "code",
   "execution_count": null,
   "id": "4c411fa1-a5ff-4f9a-b513-241cdc1d17a5",
   "metadata": {
    "tags": []
   },
   "outputs": [],
   "source": [
    "...\n",
    "# store rate of seafloor inflation in this variable\n",
    "round_inflation_rate = ..."
   ]
  },
  {
   "cell_type": "markdown",
   "id": "2d53d585-7aff-449b-9ebb-3c6ce25a6cef",
   "metadata": {
    "deletable": false,
    "editable": false
   },
   "source": [
    "<!-- BEGIN QUESTION -->\n",
    "\n",
    "### Part 4\n",
    "Use Matplotlib to create a plot of the data with datetime on the x-axis and depth on the y-axis.  Shallower depths should point in the positive y-direction (Look how to do this in the [Matplotlib documentation](https://matplotlib.org/3.3.1/api/axes_api.html)). **Format and label your plot such that it looks as similar to the plot in the instructions as possible (this includes the title, axis labels, and grid)** (10 points)"
   ]
  },
  {
   "cell_type": "code",
   "execution_count": null,
   "id": "d045ddf5-4667-4536-abf0-823ec8abd71a",
   "metadata": {
    "tags": []
   },
   "outputs": [],
   "source": [
    "# Your code to make the plot for Part 4:\n",
    "..."
   ]
  },
  {
   "cell_type": "markdown",
   "id": "407a29f5",
   "metadata": {
    "deletable": false,
    "editable": false
   },
   "source": [
    "<!-- END QUESTION -->\n",
    "\n"
   ]
  }
 ],
 "metadata": {
  "kernelspec": {
   "display_name": "Python 3 (ipykernel)",
   "language": "python",
   "name": "python3"
  },
  "language_info": {
   "codemirror_mode": {
    "name": "ipython",
    "version": 3
   },
   "file_extension": ".py",
   "mimetype": "text/x-python",
   "name": "python",
   "nbconvert_exporter": "python",
   "pygments_lexer": "ipython3",
   "version": "3.10.10"
  },
  "otter": {
   "OK_FORMAT": true,
   "tests": {
    "Question 2": {
     "name": "Question 2",
     "points": 15,
     "suites": [
      {
       "cases": [
        {
         "code": ">>> # word 1\n>>> assert word1_list == str_array[4,2:4,1].tolist()\n",
         "hidden": false,
         "locked": false,
         "points": 1
        },
        {
         "code": ">>> # word 2\n>>> assert word2_list == str_array[0:,3,2].tolist()\n",
         "hidden": false,
         "locked": false,
         "points": 1
        },
        {
         "code": ">>> # word 3\n>>> assert word3_list == str_array[0,2,1:].tolist()\n",
         "hidden": false,
         "locked": false,
         "points": 1
        },
        {
         "code": ">>> # word 4\n>>> assert word4_list == str_array[3,2:4,3].tolist()\n",
         "hidden": false,
         "locked": false,
         "points": 1
        },
        {
         "code": ">>> # word 5\n>>> assert word5_list == np.ravel(str_array[2:4, 0:3,0]).tolist()\n",
         "hidden": false,
         "locked": false,
         "points": 1
        }
       ],
       "scored": true,
       "setup": "",
       "teardown": "",
       "type": "doctest"
      }
     ]
    },
    "Question 3, Part 1": {
     "name": "Question 3, Part 1",
     "points": 5,
     "suites": [
      {
       "cases": [],
       "scored": true,
       "setup": "",
       "teardown": "",
       "type": "doctest"
      }
     ]
    },
    "Question 3, Part 2": {
     "name": "Question 3, Part 2",
     "points": null,
     "suites": [
      {
       "cases": [],
       "scored": true,
       "setup": "",
       "teardown": "",
       "type": "doctest"
      }
     ]
    },
    "Question 3, Part 3": {
     "name": "Question 3, Part 3",
     "points": 2,
     "suites": [
      {
       "cases": [],
       "scored": true,
       "setup": "",
       "teardown": "",
       "type": "doctest"
      }
     ]
    }
   }
  }
 },
 "nbformat": 4,
 "nbformat_minor": 5
}
